{
 "cells": [
  {
   "cell_type": "code",
   "execution_count": 223,
   "metadata": {},
   "outputs": [],
   "source": [
    "import pandas as pd\n",
    "import numpy as np\n",
    "import os\n",
    "from datetime import date,datetime as dt\n",
    "import seaborn as sns\n",
    "import matplotlib.pyplot as plt"
   ]
  },
  {
   "cell_type": "code",
   "execution_count": 72,
   "metadata": {},
   "outputs": [],
   "source": [
    "os.chdir('/home/zalewskr-erau.edu/Downloads')\n",
    "files = os.listdir()\n",
    "df = [pd.read_csv(i) for i in [file for file in files if 'eo_' in file]]\n",
    "df = pd.concat(df)"
   ]
  },
  {
   "cell_type": "code",
   "execution_count": 73,
   "metadata": {},
   "outputs": [],
   "source": [
    "df = df[df['FOUNDATION']!=0]"
   ]
  },
  {
   "cell_type": "code",
   "execution_count": 95,
   "metadata": {},
   "outputs": [],
   "source": [
    "df = df.drop(df[df['RULING']==0]['RULING'].index)"
   ]
  },
  {
   "cell_type": "code",
   "execution_count": 99,
   "metadata": {},
   "outputs": [],
   "source": [
    "df['RULING'] = df.apply(lambda row: dt.strptime(str(row['RULING']),'%Y%m'),axis=1)"
   ]
  },
  {
   "cell_type": "code",
   "execution_count": 139,
   "metadata": {},
   "outputs": [],
   "source": [
    "df['TIME'] = df.apply(lambda row: date.today() - row['RULING'].date(),axis=1)"
   ]
  },
  {
   "cell_type": "code",
   "execution_count": 141,
   "metadata": {},
   "outputs": [
    {
     "data": {
      "text/plain": [
       "EIN\n",
       "850754365      71 days\n",
       "134161600      71 days\n",
       "931396809      71 days\n",
       "931395081      71 days\n",
       "932881084      71 days\n",
       "               ...    \n",
       "366039280   45269 days\n",
       "366038577   45269 days\n",
       "366037331   45269 days\n",
       "366038002   45269 days\n",
       "366037718   45269 days\n",
       "Name: TIME, Length: 1421372, dtype: timedelta64[ns]"
      ]
     },
     "execution_count": 141,
     "metadata": {},
     "output_type": "execute_result"
    }
   ],
   "source": [
    "df['TIME'].sort_values()"
   ]
  },
  {
   "cell_type": "code",
   "execution_count": 136,
   "metadata": {},
   "outputs": [
    {
     "data": {
      "text/plain": [
       "datetime.timedelta(days=7863)"
      ]
     },
     "execution_count": 136,
     "metadata": {},
     "output_type": "execute_result"
    }
   ],
   "source": [
    "date.today() - df['RULING'].iloc[0].date()"
   ]
  },
  {
   "cell_type": "code",
   "execution_count": 131,
   "metadata": {},
   "outputs": [
    {
     "data": {
      "text/plain": [
       "datetime.date(2023, 12, 11)"
      ]
     },
     "execution_count": 131,
     "metadata": {},
     "output_type": "execute_result"
    }
   ],
   "source": [
    "date.today()"
   ]
  },
  {
   "cell_type": "code",
   "execution_count": 133,
   "metadata": {},
   "outputs": [
    {
     "data": {
      "text/plain": [
       "datetime.date(2002, 6, 1)"
      ]
     },
     "execution_count": 133,
     "metadata": {},
     "output_type": "execute_result"
    }
   ],
   "source": [
    "df['RULING'].iloc[0].date()"
   ]
  },
  {
   "cell_type": "code",
   "execution_count": 158,
   "metadata": {},
   "outputs": [
    {
     "data": {
      "text/plain": [
       "STATE\n",
       "AK    1.577806\n",
       "AL    1.234156\n",
       "AR    1.231888\n",
       "AZ    1.287327\n",
       "CA    1.534826\n",
       "CO    1.628078\n",
       "CT    1.743381\n",
       "DC    2.482000\n",
       "DE    2.231738\n",
       "FL    1.261276\n",
       "GA    1.079800\n",
       "HI    1.460033\n",
       "IA    1.424973\n",
       "ID    1.257119\n",
       "IL    1.555058\n",
       "IN    1.306130\n",
       "KS    1.453102\n",
       "KY    1.342168\n",
       "LA    1.251382\n",
       "MA    2.104406\n",
       "MD    1.300850\n",
       "ME    1.792741\n",
       "MI    1.334760\n",
       "MN    1.631028\n",
       "MO    1.316929\n",
       "MS    1.002852\n",
       "MT    1.345812\n",
       "NC    1.261452\n",
       "ND    1.566392\n",
       "NE    1.465881\n",
       "NH    1.829190\n",
       "NJ    1.475813\n",
       "NM    1.411841\n",
       "NV    1.734278\n",
       "NY    1.840898\n",
       "OH    1.421030\n",
       "OK    1.262709\n",
       "OR    1.560145\n",
       "PA    1.782895\n",
       "RI    1.862864\n",
       "SC    0.996670\n",
       "SD    1.561935\n",
       "TN    1.207368\n",
       "TX    1.229206\n",
       "UT    1.518045\n",
       "VA    1.402855\n",
       "VT    1.859399\n",
       "WA    1.483845\n",
       "WI    1.574101\n",
       "WV    1.350508\n",
       "WY    1.524960\n",
       "Name: INCOME_CD, dtype: float64"
      ]
     },
     "execution_count": 158,
     "metadata": {},
     "output_type": "execute_result"
    }
   ],
   "source": [
    "df['INCOME_CD'].groupby(df['STATE']).mean()"
   ]
  },
  {
   "cell_type": "code",
   "execution_count": 218,
   "metadata": {},
   "outputs": [],
   "source": [
    "out = pd.DataFrame(df['TIME'].groupby(df['STATE']).mean())\n",
    "out = pd.DataFrame(out.squeeze().dt.days)\n",
    "out = out.apply(lambda row: int(row['TIME']),axis=1)"
   ]
  },
  {
   "cell_type": "code",
   "execution_count": 180,
   "metadata": {},
   "outputs": [],
   "source": [
    "out2 = pd.DataFrame(df['INCOME_AMT'].groupby(df['STATE']).mean())"
   ]
  },
  {
   "cell_type": "code",
   "execution_count": 182,
   "metadata": {},
   "outputs": [],
   "source": [
    "out3 = pd.DataFrame(df['ASSET_AMT'].groupby(df['STATE']).mean())"
   ]
  },
  {
   "cell_type": "code",
   "execution_count": 226,
   "metadata": {},
   "outputs": [],
   "source": [
    "pd.concat((out,out2,out3),axis=1).to_csv('time_output.csv')"
   ]
  },
  {
   "cell_type": "code",
   "execution_count": 221,
   "metadata": {},
   "outputs": [
    {
     "data": {
      "text/plain": [
       "<Axes: >"
      ]
     },
     "execution_count": 221,
     "metadata": {},
     "output_type": "execute_result"
    },
    {
     "data": {
      "image/png": "[encoded data removed]",
      "text/plain": [
       "<Figure size 432x288 with 2 Axes>"
      ]
     },
     "metadata": {
      "needs_background": "light"
     },
     "output_type": "display_data"
    }
   ],
   "source": [
    "sns.heatmap(main_out.corr(numeric_only = True),vmin = -1, vmax = 1)"
   ]
  }
 ],
 "metadata": {
  "kernelspec": {
   "display_name": "Python 3",
   "language": "python",
   "name": "python3"
  },
  "language_info": {
   "codemirror_mode": {
    "name": "ipython",
    "version": 3
   },
   "file_extension": ".py",
   "mimetype": "text/x-python",
   "name": "python",
   "nbconvert_exporter": "python",
   "pygments_lexer": "ipython3",
   "version": "3.8.10"
  }
 },
 "nbformat": 4,
 "nbformat_minor": 4
}
